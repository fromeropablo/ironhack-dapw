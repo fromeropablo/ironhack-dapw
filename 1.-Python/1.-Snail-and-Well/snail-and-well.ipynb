{
 "cells": [
  {
   "cell_type": "markdown",
   "metadata": {},
   "source": [
    "<img src=\"https://bit.ly/2VnXWr2\" width=\"100\" align=\"left\">"
   ]
  },
  {
   "cell_type": "markdown",
   "metadata": {},
   "source": [
    "# The Snail and the Well\n",
    "\n",
    "A snail falls at the bottom of a 125 cm well. Each day the snail rises 30 cm. But at night, while sleeping, slides 20 cm because the walls are wet. How many days does it take for the snail to escape the well?\n",
    "\n",
    "**Hint**: The snail gets out of the well when it surpasses the 125cm of height.\n",
    "\n",
    "## Tools\n",
    "\n",
    "1. Loop: **while**\n",
    "2. Conditional statements: **if-else**\n",
    "3. Function: **print()**\n",
    "\n",
    "## Tasks\n",
    "\n",
    "#### 1. Assign the challenge data to variables with representative names: `well_height`, `daily_distance`, `nightly_distance` and `snail_position`."
   ]
  },
  {
   "cell_type": "code",
   "execution_count": 1,
   "metadata": {},
   "outputs": [],
   "source": [
    "well_height = 125\n",
    "daily_distance = 30\n",
    "nightly_distance = 20\n",
    "snail_position = 0"
   ]
  },
  {
   "cell_type": "markdown",
   "metadata": {},
   "source": [
    "#### 2. Create a variable `days` to keep count of the days that pass until the snail escapes the well. "
   ]
  },
  {
   "cell_type": "code",
   "execution_count": 2,
   "metadata": {},
   "outputs": [],
   "source": [
    "days = 0"
   ]
  },
  {
   "cell_type": "markdown",
   "metadata": {},
   "source": [
    "#### 3. Find the solution to the challenge using the variables defined above. "
   ]
  },
  {
   "cell_type": "code",
   "execution_count": 19,
   "metadata": {},
   "outputs": [
    {
     "name": "stdout",
     "output_type": "stream",
     "text": [
      "Days: 1 => Snail is at 10 cm\n",
      "Days: 2 => Snail is at 20 cm\n",
      "Days: 3 => Snail is at 30 cm\n",
      "Days: 4 => Snail is at 40 cm\n",
      "Days: 5 => Snail is at 50 cm\n",
      "Days: 6 => Snail is at 60 cm\n",
      "Days: 7 => Snail is at 70 cm\n",
      "Days: 8 => Snail is at 80 cm\n",
      "Days: 9 => Snail is at 90 cm\n",
      "Days: 10 => Snail is at 100 cm\n",
      "Days: 11 => Snail is at 110 cm\n",
      "Days: 12 => Snail is at 120 cm\n",
      "Days: 13 => Snail is at 130 cm\n"
     ]
    }
   ],
   "source": [
    "well_height = 125\n",
    "daily_distance = 30\n",
    "nightly_distance = 20\n",
    "snail_position = 0\n",
    "days = 0\n",
    "snailInTheWell = True\n",
    "\n",
    "while snailInTheWell:\n",
    "    total_daily_effort = daily_distance - nightly_distance\n",
    "    snail_position += total_daily_effort\n",
    "    days += 1\n",
    "    if snail_position >= well_height:\n",
    "        snailInTheWell = False\n",
    "    print(\"Days:\",days, \"=> Snail is at\", snail_position, \"cm\")"
   ]
  },
  {
   "cell_type": "markdown",
   "metadata": {},
   "source": [
    "#### 4. Print the solution."
   ]
  },
  {
   "cell_type": "code",
   "execution_count": 16,
   "metadata": {},
   "outputs": [
    {
     "name": "stdout",
     "output_type": "stream",
     "text": [
      "According to my calculation, the snail can escape in 6 days.\n"
     ]
    }
   ],
   "source": [
    "print(\"According to my calculation, the snail can escape in\", days, \"days.\")"
   ]
  },
  {
   "cell_type": "markdown",
   "metadata": {},
   "source": [
    "## Bonus\n",
    "The distance traveled by the snail each day is now defined by a list.\n",
    "```\n",
    "advance_cm = [30, 21, 33, 77, 44, 45, 23, 45, 12, 34, 55]\n",
    "```\n",
    "On the first day, the snail rises 30cm but during the night it slides 20cm. On the second day, the snail rises 21cm but during the night it slides 20cm, and so on. \n",
    "\n",
    "#### 1. How many days does it take for the snail to escape the well?\n",
    "Follow the same guidelines as in the previous challenge.\n",
    "\n",
    "**Hint**: Remember that the snail gets out of the well when it surpasses the 125cm of height."
   ]
  },
  {
   "cell_type": "code",
   "execution_count": 4,
   "metadata": {},
   "outputs": [
    {
     "name": "stdout",
     "output_type": "stream",
     "text": [
      "Day: 1 the Snail is moving a bit further, more or less 10 cm\n",
      "Day: 2 the Snail is moving a bit further, more or less 11 cm\n",
      "Day: 3 the Snail is moving a bit further, more or less 24 cm\n",
      "Day: 4 the Snail is moving a bit further, more or less 81 cm\n",
      "Day: 5 the Snail is moving a bit further, more or less 105 cm\n",
      "\n",
      "I think on the day 6th the snail will finally out! Oh poor Snaily.. Naily..\n",
      "\n",
      "Day: 6 the Snail is out: 130 cm\n"
     ]
    }
   ],
   "source": [
    "well_height = 125\n",
    "advance_cm = [30, 21, 33, 77, 44, 45, 23, 45, 12, 34, 55]\n",
    "nightly_distance = 20\n",
    "snail_position = 0\n",
    "days = 0\n",
    "\n",
    "for day_cm in advance_cm:\n",
    "    snail_position += day_cm - nightly_distance\n",
    "    days += 1\n",
    "    if snail_position >= well_height:\n",
    "        print(\"\\nI think on the day 6th the snail will finally out! Oh poor Snaily.. Naily..\")\n",
    "        break\n",
    "    print (\"Day:\",days, \"the Snail is moving a bit further, more or less\",snail_position, \"cm\")\n",
    "\n",
    "print (\"\\nDay:\",days, \"the Snail is out:\",snail_position, \"cm\")"
   ]
  },
  {
   "cell_type": "markdown",
   "metadata": {},
   "source": [
    "#### 2. What is its maximum displacement in one day? And its minimum? Calculate the displacement using only the travel distance of the days used to get out of the well. \n",
    "**Hint**: Remember that displacement means the total distance risen taking into account that the snail slides at night.  "
   ]
  },
  {
   "cell_type": "code",
   "execution_count": 15,
   "metadata": {},
   "outputs": [
    {
     "name": "stdout",
     "output_type": "stream",
     "text": [
      "Maximum distance is in a 77 day, and \n",
      "the maximum displacement in 57 day.\n",
      "\n",
      "Minimum distance is in a 12 day, and \n",
      "the minimum displacement in 1 day.\n"
     ]
    }
   ],
   "source": [
    "well_height = 125\n",
    "advance_cm = [30, 21, 33, 77, 44, 45, 23, 45, 12, 34, 55]\n",
    "nightly_distance = 20\n",
    "snail_position = 0\n",
    "days = 0\n",
    "displacements = []\n",
    "\n",
    "for day_cm in advance_cm:\n",
    "    days += 1\n",
    "    snail_position += day_cm - nightly_distance\n",
    "    displacements.append(day_cm)\n",
    "    if snail_position >= well_height:\n",
    "        break\n",
    "    displacements[-1] -= nightly_distance\n",
    "\n",
    "max_displacement = max(displacements)\n",
    "min_displacement = min(displacements)\n",
    "  \n",
    "print(\"Maximum distance is in a\",max(advance_cm), \"day,\", \"and \\nthe maximum displacement in\", max_displacement, \"day.\")\n",
    "print(\"\\nMinimum distance is in a\",min(advance_cm), \"day,\" ,\"and \\nthe minimum displacement in\", min_displacement, \"day.\")"
   ]
  },
  {
   "cell_type": "markdown",
   "metadata": {},
   "source": [
    "#### 3. What is its average progress? Take into account the snail slides at night."
   ]
  },
  {
   "cell_type": "code",
   "execution_count": 110,
   "metadata": {},
   "outputs": [
    {
     "name": "stdout",
     "output_type": "stream",
     "text": [
      "Average distance in a day: 38 cm\n"
     ]
    }
   ],
   "source": [
    "from statistics import mean\n",
    "well_height = 125\n",
    "advance_cm = [30, 21, 33, 77, 44, 45, 23, 45, 12, 34, 55]\n",
    "nightly_distance = 20\n",
    "snail_position = 0\n",
    "days = 0\n",
    "\n",
    "for day_cm in advance_cm:\n",
    "    days += 1\n",
    "    snail_position += day_cm - nightly_distance\n",
    "    if snail_position >= well_height:\n",
    "        break\n",
    "    \n",
    "print(\"Average distance in a day:\",int(mean(advance_cm)), \"cm\")\n",
    "#print(\"Average distance in day=\",int(sum(advance_cm)/len(advance_cm))) - this option when follwing the text"
   ]
  },
  {
   "cell_type": "markdown",
   "metadata": {},
   "source": [
    "#### 4. What is the standard deviation of its displacement? Take into account the snail slides at night."
   ]
  },
  {
   "cell_type": "code",
   "execution_count": 67,
   "metadata": {},
   "outputs": [
    {
     "name": "stdout",
     "output_type": "stream",
     "text": [
      "Standard Deviation distance in a day: 17 cm\n"
     ]
    }
   ],
   "source": [
    "from statistics import stdev\n",
    "well_height = 125\n",
    "advance_cm = [30, 21, 33, 77, 44, 45, 23, 45, 12, 34, 55]\n",
    "nightly_distance = 20\n",
    "snail_position = 0\n",
    "days = 0\n",
    "\n",
    "for day_cm in advance_cm:\n",
    "    days += 1\n",
    "    snail_position += day_cm - nightly_distance\n",
    "    if snail_position >= well_height:\n",
    "        break\n",
    "    \n",
    "print(\"Standard Deviation distance in a day:\",int(stdev(advance_cm)), \"cm\")"
   ]
  },
  {
   "cell_type": "code",
   "execution_count": null,
   "metadata": {},
   "outputs": [],
   "source": []
  }
 ],
 "metadata": {
  "kernelspec": {
   "display_name": "Python 3",
   "language": "python",
   "name": "python3"
  },
  "language_info": {
   "codemirror_mode": {
    "name": "ipython",
    "version": 3
   },
   "file_extension": ".py",
   "mimetype": "text/x-python",
   "name": "python",
   "nbconvert_exporter": "python",
   "pygments_lexer": "ipython3",
   "version": "3.9.2"
  }
 },
 "nbformat": 4,
 "nbformat_minor": 2
}
