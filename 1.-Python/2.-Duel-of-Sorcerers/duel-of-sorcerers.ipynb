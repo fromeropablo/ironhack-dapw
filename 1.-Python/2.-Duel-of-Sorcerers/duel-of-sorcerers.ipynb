{
 "cells": [
  {
   "cell_type": "markdown",
   "metadata": {},
   "source": [
    "<img src=\"https://bit.ly/2VnXWr2\" width=\"100\" align=\"left\">"
   ]
  },
  {
   "cell_type": "markdown",
   "metadata": {},
   "source": [
    "# Duel of Sorcerers\n",
    "You are witnessing an epic battle between two powerful sorcerers: Gandalf and Saruman. Each sorcerer has 10 spells of variable power in their mind and they are going to throw them one after the other. The winner of the duel will be the one who wins more of those clashes between spells. Spells are represented as a list of 10 integers whose value equals the power of the spell.\n",
    "```\n",
    "gandalf = [10, 11, 13, 30, 22, 11, 10, 33, 22, 22]\n",
    "saruman = [23, 66, 12, 43, 12, 10, 44, 23, 12, 17]\n",
    "```\n",
    "For example:\n",
    "- The first clash is won by Saruman: 10 against 23.\n",
    "- The second clash is won by Saruman: 11 against 66.\n",
    "- ...\n",
    "\n",
    "You will create two variables, one for each sorcerer, where the sum of clashes won will be stored. Depending on which variable is greater at the end of the duel, you will show one of the following three results on the screen:\n",
    "* Gandalf wins\n",
    "* Saruman wins\n",
    "* Tie\n",
    "\n",
    "<img src=\"images/content_lightning_bolt_big.jpg\" width=\"400\">"
   ]
  },
  {
   "cell_type": "markdown",
   "metadata": {},
   "source": [
    "## Tools\n",
    "You don't necessarily need to use all the tools. Maybe you opt to use some of them or completely different ones, they are given to help you shape the exercise. Programming exercises can be solved in many different ways.\n",
    "\n",
    "1. Data structures: **lists, dictionaries**\n",
    "2. Loop: **for loop**\n",
    "3. Conditional statements: **if-elif-else**\n",
    "4. Functions: **range(), len(), print()**\n",
    "\n",
    "## Tasks\n",
    "\n",
    "#### 1. Create two variables called `gandalf` and `saruman` and assign them the spell power lists. Create a variable called `spells` to store the number of spells that the sorcerers cast. "
   ]
  },
  {
   "cell_type": "code",
   "execution_count": 20,
   "metadata": {},
   "outputs": [],
   "source": [
    "gandalf = [10, 11, 13, 30, 22, 11, 10, 33, 22, 22]\n",
    "saruman = [23, 66, 12, 43, 12, 10, 44, 23, 12, 17]\n",
    "spells = len(gandalf)"
   ]
  },
  {
   "cell_type": "markdown",
   "metadata": {},
   "source": [
    "#### 2. Create two variables called `gandalf_wins` and `saruman_wins`. Set both of them to 0. \n",
    "You will use these variables to count the number of clashes each sorcerer wins. "
   ]
  },
  {
   "cell_type": "code",
   "execution_count": 21,
   "metadata": {},
   "outputs": [],
   "source": [
    "gandalf_wins = 0\n",
    "saruman_wins = 0"
   ]
  },
  {
   "cell_type": "markdown",
   "metadata": {},
   "source": [
    "#### 3. Using the lists of spells of both sorcerers, update variables `gandalf_wins` and `saruman_wins` to count the number of times each sorcerer wins a clash. "
   ]
  },
  {
   "cell_type": "code",
   "execution_count": 22,
   "metadata": {},
   "outputs": [],
   "source": [
    "for i in range(spells):\n",
    "    if gandalf[i] > saruman[i]:\n",
    "        gandalf_wins += 1\n",
    "    elif gandalf[i] < saruman[i]:\n",
    "        saruman_wins += 1"
   ]
  },
  {
   "cell_type": "markdown",
   "metadata": {},
   "source": [
    "#### 4. Who won the battle?\n",
    "Print `Gandalf wins`, `Saruman wins` or `Tie` depending on the result. "
   ]
  },
  {
   "cell_type": "code",
   "execution_count": 23,
   "metadata": {},
   "outputs": [
    {
     "name": "stdout",
     "output_type": "stream",
     "text": [
      "\n",
      "Gandalf wins the battle!\n",
      "\n",
      "The final result is Gandalf 6 of 10 battles - Saruman 4 of 10 battles.\n"
     ]
    }
   ],
   "source": [
    "if saruman_wins < gandalf_wins:\n",
    "    print(\"\\nGandalf wins the battle!\")\n",
    "elif saruman_wins > gandalf_wins:\n",
    "    print(\"\\nSaruman wins the battle!\")\n",
    "else:\n",
    "    print(\"\\nThe battle ends with an epic draw!\")\n",
    "\n",
    "print(\"\\nThe final result is Gandalf %d of %d battles - Saruman %d of %d battles.\" % (gandalf_wins, total_clashes, saruman_wins, total_clashes))"
   ]
  },
  {
   "cell_type": "markdown",
   "metadata": {},
   "source": [
    "## Bonus\n",
    "\n",
    "In this bonus challenge, you'll need to check the winner of the battle but this time, a sorcerer wins if he succeeds in winning 3 spell clashes in a row.\n",
    "\n",
    "Also, the spells now have a name and there is a dictionary that associates that name to a power.\n",
    "\n",
    "```\n",
    "POWER = {\n",
    "    'Fireball': 50, \n",
    "    'Lightning bolt': 40, \n",
    "    'Magic arrow': 10, \n",
    "    'Black Tentacles': 25, \n",
    "    'Contagion': 45\n",
    "}\n",
    "\n",
    "gandalf = ['Fireball', 'Lightning bolt', 'Lightning bolt', 'Magic arrow', 'Fireball', \n",
    "           'Magic arrow', 'Lightning bolt', 'Fireball', 'Fireball', 'Fireball']\n",
    "saruman = ['Contagion', 'Contagion', 'Black Tentacles', 'Fireball', 'Black Tentacles', \n",
    "           'Lightning bolt', 'Magic arrow', 'Contagion', 'Magic arrow', 'Magic arrow']\n",
    "```\n",
    "\n",
    "#### 1. Create variables `POWER`, `gandalf` and `saruman` as seen above. Create a variable called `spells` to store the number of spells that the sorcerers cast. "
   ]
  },
  {
   "cell_type": "code",
   "execution_count": 11,
   "metadata": {},
   "outputs": [],
   "source": [
    "power = {\n",
    "    'Fireball': 50, \n",
    "    'Lightning bolt': 40, \n",
    "    'Magic arrow': 10, \n",
    "    'Black Tentacles': 25, \n",
    "    'Contagion': 45\n",
    "}\n",
    "\n",
    "gandalf_spells = [\n",
    "    'Fireball', \n",
    "    'Lightning bolt', \n",
    "    'Lightning bolt', \n",
    "    'Magic arrow', \n",
    "    'Fireball', \n",
    "    'Magic arrow', \n",
    "    'Lightning bolt', \n",
    "    'Fireball', \n",
    "    'Fireball', \n",
    "    'Fireball'\n",
    "]\n",
    "\n",
    "saruman_spells = [\n",
    "    'Contagion', \n",
    "    'Contagion', \n",
    "    'Black Tentacles', \n",
    "    'Fireball', \n",
    "    'Black Tentacles', \n",
    "    'Lightning bolt', \n",
    "    'Magic arrow', \n",
    "    'Contagion', \n",
    "    'Magic arrow', \n",
    "    'Magic arrow'\n",
    "]"
   ]
  },
  {
   "cell_type": "markdown",
   "metadata": {},
   "source": [
    "#### 2. Create two variables called `gandalf_wins` and `saruman_wins`. Set both of them to 0. "
   ]
  },
  {
   "cell_type": "code",
   "execution_count": 12,
   "metadata": {},
   "outputs": [],
   "source": [
    "gandalf_wins = 0\n",
    "saruman_wins = 0"
   ]
  },
  {
   "cell_type": "raw",
   "metadata": {},
   "source": [
    "# 3. Create two variables called `gandalf_power` and `saruman_power` to store the list of spell powers of each sorcerer."
   ]
  },
  {
   "cell_type": "code",
   "execution_count": 13,
   "metadata": {},
   "outputs": [],
   "source": [
    "gandalf_power = []\n",
    "saruman_power = []  "
   ]
  },
  {
   "cell_type": "markdown",
   "metadata": {},
   "source": [
    "#### 4. The battle starts! Using the variables you've created above, code the execution of spell clashes. Remember that a sorcerer wins if he succeeds in winning 3 spell clashes in a row. \n",
    "If a clash ends up in a tie, the counter of wins in a row is not restarted to 0. Remember to print who is the winner of the battle. "
   ]
  },
  {
   "cell_type": "code",
   "execution_count": 31,
   "metadata": {},
   "outputs": [
    {
     "name": "stdout",
     "output_type": "stream",
     "text": [
      "\n",
      "The battle starts...\n",
      "\n",
      "\n",
      " 01 - Gandalf shoots a Fireball. Saruman attacks with a Contagion \n",
      "\n",
      "\n",
      " 02 - Saruman charges with a Contagion. Gandalf stops it with a Lightning bolt \n",
      "\n",
      "\n",
      " 03 - Saruman charges with a Black Tentacles. Gandalf attacks with a Lightning bolt \n",
      "\n",
      "\n",
      " 04 - Saruman utilizes a Fireball while Gandalf block it with a Magic arrow \n",
      "\n",
      "\n",
      " 05 - Saruman utilizes a Black Tentacles and Gandalf block it with a Fireball \n",
      "\n",
      "\n",
      " 06 - Saruman charges with a Lightning bolt but Gandalf attacks with a Magic arrow \n",
      "\n",
      "\n",
      " 07 - Gandalf uses a Lightning bolt at the same time Saruman uses a Magic arrow \n",
      "\n",
      "\n",
      " 08 - Saruman charges with a Contagion. Gandalf attacks with a Fireball \n",
      "\n",
      "\n",
      " 09 - Gandalf attacks with a Fireball. Saruman attacks with a Magic arrow \n",
      "\n",
      "\n",
      " The final result of the competition is:\n",
      "\n",
      "\t Gandalf total wins: 6\n",
      "\t Saruman total wins: 3\n",
      "\t Total draws: 0\n",
      "\n",
      "\t GANDALF Wins!\n"
     ]
    }
   ],
   "source": [
    "who_attacks = 0\n",
    "random_words_attack = [\"attacks with a \", \"uses a \", \"utilizes a \", \"charges with a \", \"shoots a \"]\n",
    "random_words_defense = [\"block it with a \", \"refuse it with a \", \"stops it with a \", \"uses a \", \"attacks with a \"]\n",
    "random_interjections = [\", \", \" and \", \" but \", \" at the same time \", \". \", \" while \"]\n",
    "\n",
    "print(\"\\nThe battle starts...\\n\")\n",
    "\n",
    "import random\n",
    "\n",
    "Round_of_clashes = 0\n",
    "Total_of__clashes = len(saruman_spells)\n",
    "\n",
    "saruman_score = 0\n",
    "gandalf_score = 0\n",
    "saruman_total_score = 0\n",
    "gandalf_total_score = 0\n",
    "total_draws = 0\n",
    "\n",
    "while saruman_score < 3 and gandalf_score < 3 and Round_of_clashes < Total_of__clashes:\n",
    "\n",
    "    who_attacks = random.randint(0, 1)\n",
    "    random_word1 = random.randint(0, len(random_words_attack)-1)\n",
    "    random_word2 = random.randint(0, len(random_words_defense)-1)\n",
    "    random_word3 = random.randint(0, len(random_interjections)-1)\n",
    "    if Round_of_clashes <= 10:\n",
    "        spell_round = \"0\" + str(Round_of_clashes + 1)\n",
    "    else:\n",
    "        spell_round = str(Round_of_clashes + 1)\n",
    "\n",
    "    if who_attacks == 0:\n",
    "        attacker = [\"Gandalf \", gandalf_spells]\n",
    "        defender = [\"Saruman \", saruman_spells]\n",
    "        print(\"\\n %s - %s%s%s%s%s%s%s \\n\" % \n",
    "              (spell_round, attacker[0],  \n",
    "               random_words_attack[random_word1], \n",
    "               attacker[1][Round_of_clashes], \n",
    "               random_interjections[random.randint(0, len(random_interjections)-1)], \n",
    "               defender[0], random_words_defense[random_word2], \n",
    "               defender[1][Round_of_clashes]))\n",
    "        if power[attacker[1][Round_of_clashes]] > power[defender[1][Round_of_clashes]]:\n",
    "            gandalf_score += 1\n",
    "            gandalf_total_score += 1\n",
    "            saruman_score = 0\n",
    "        elif power[attacker[1][Round_of_clashes]] < power[defender[1][Round_of_clashes]]:\n",
    "            gandalf_score = 0\n",
    "            saruman_score += 1\n",
    "            saruman_total_score +=1\n",
    "        else:\n",
    "            print(\"\\t Draw!\")\n",
    "            gandalf_score = 0\n",
    "            saruman_score = 0\n",
    "            total_draws += 1\n",
    "    else:\n",
    "        attacker = [\"Saruman \", saruman_spells]\n",
    "        defender = [\"Gandalf \", gandalf_spells]\n",
    "        print(\"\\n %s - %s%s%s%s%s%s%s \\n\" % \n",
    "              (spell_round, attacker[0], \n",
    "               random_words_attack[random_word1], \n",
    "               attacker[1][Round_of_clashes], \n",
    "               random_interjections[random_word3], \n",
    "               defender[0], random_words_defense[random_word2], \n",
    "               defender[1][Round_of_clashes]))\n",
    "        if power[attacker[1][Round_of_clashes]] > power[defender[1][Round_of_clashes]]:\n",
    "            gandalf_score = 0\n",
    "            saruman_score += 1\n",
    "            saruman_total_score += 1\n",
    "        elif power[attacker[1][Round_of_clashes]] < power[defender[1][Round_of_clashes]]:\n",
    "            gandalf_score += 1\n",
    "            gandalf_total_score += 1\n",
    "            saruman_score = 0\n",
    "        else:\n",
    "            print(\"\\t Draw!\")\n",
    "            gandalf_score = 0\n",
    "            saruman_score = 0\n",
    "            total_draws += 1\n",
    "    Round_of_clashes += 1\n",
    "\n",
    "print(\"\\n The final result of the competition is:\")\n",
    "print(\"\\n\\t Gandalf total wins: %d\" % gandalf_total_score)\n",
    "print(\"\\t Saruman total wins: %d\" % saruman_total_score)\n",
    "print(\"\\t Total draws: %d\" % total_draws)\n",
    "\n",
    "if gandalf_total_score > saruman_total_score:\n",
    "    print(\"\\n\\t GANDALF Wins!\")\n",
    "elif gandalf_total_score < saruman_total_score:\n",
    "    print(\"SARUMAN Wins\")\n",
    "else:\n",
    "    print(\"It is a tie!\")"
   ]
  },
  {
   "cell_type": "markdown",
   "metadata": {},
   "source": [
    "#### 5. Find the average spell power of Gandalf and Saruman. "
   ]
  },
  {
   "cell_type": "code",
   "execution_count": 30,
   "metadata": {},
   "outputs": [
    {
     "name": "stdout",
     "output_type": "stream",
     "text": [
      "Saruman's average spells is a 30.5 power\n",
      "\n",
      "Gandalf's average spells is a 39.0 power\n"
     ]
    }
   ],
   "source": [
    "saruman_array = []\n",
    "gandalf_array = []\n",
    "saruman_array2 = []\n",
    "gandalf_array2 = []\n",
    "\n",
    "SD_saruman = 0\n",
    "SD_gandalf = 0\n",
    "\n",
    "\n",
    "for spell in saruman_spells:\n",
    "    name_spell = spell\n",
    "    saruman_array.append(power[name_spell])\n",
    "\n",
    "for spell in gandalf_spells:\n",
    "    name_spell = spell\n",
    "    gandalf_array.append(power[name_spell])\n",
    "\n",
    "average_saruman = sum(saruman_array)/len(saruman_spells)\n",
    "average_gandalf = sum(gandalf_array)/len(gandalf_spells)\n",
    "\n",
    "import math\n",
    "\n",
    "for spells in range(len(saruman_spells)):\n",
    "    saruman_array[spells] = math.pow(saruman_array[spells] - average_saruman, 2)\n",
    "\n",
    "SD_saruman = math.sqrt(sum(saruman_array) / len(saruman_spells))\n",
    "\n",
    "for spells in range(len(gandalf_spells)):\n",
    "    gandalf_array[spells] = math.pow(gandalf_array[spells] - average_gandalf, 2)\n",
    "\n",
    "SD_gandalf = math.sqrt(sum(gandalf_array)/len(gandalf_spells))\n",
    "\n",
    "print(\"Saruman's average spells is a %s power\\n\" % average_saruman)\n",
    "print(\"Gandalf's average spells is a %s power\" % average_gandalf)"
   ]
  },
  {
   "cell_type": "markdown",
   "metadata": {},
   "source": [
    "#### 6. Find the standard deviation of the spell power of Gandalf and Saruman. "
   ]
  },
  {
   "cell_type": "code",
   "execution_count": 32,
   "metadata": {},
   "outputs": [
    {
     "name": "stdout",
     "output_type": "stream",
     "text": [
      "Saruman's standard deviation is: 15.56\n",
      "\n",
      "Gandalf's standard deviation is: 15.13\n"
     ]
    }
   ],
   "source": [
    "print(\"Saruman's standard deviation is: %.2f\\n\" % SD_saruman)\n",
    "print(\"Gandalf's standard deviation is: %.2f\" % SD_gandalf)"
   ]
  },
  {
   "cell_type": "code",
   "execution_count": null,
   "metadata": {},
   "outputs": [],
   "source": []
  }
 ],
 "metadata": {
  "kernelspec": {
   "display_name": "Python 3",
   "language": "python",
   "name": "python3"
  },
  "language_info": {
   "codemirror_mode": {
    "name": "ipython",
    "version": 3
   },
   "file_extension": ".py",
   "mimetype": "text/x-python",
   "name": "python",
   "nbconvert_exporter": "python",
   "pygments_lexer": "ipython3",
   "version": "3.9.2"
  }
 },
 "nbformat": 4,
 "nbformat_minor": 2
}
