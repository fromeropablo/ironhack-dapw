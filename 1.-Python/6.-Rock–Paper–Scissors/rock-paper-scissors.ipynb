{
 "cells": [
  {
   "cell_type": "markdown",
   "metadata": {},
   "source": [
    "<img src=\"https://bit.ly/2VnXWr2\" width=\"100\" align=\"left\">"
   ]
  },
  {
   "cell_type": "markdown",
   "metadata": {},
   "source": [
    "# Rock, Paper & Scissors\n",
    "\n",
    "Let's play the famous game against our computer. You can check the rules [here](https://en.wikipedia.org/wiki/Rock%E2%80%93paper%E2%80%93scissors). \n",
    "\n",
    "## Task\n",
    "Create a program that imitates the playability of the well known game of rock, paper, scissors. Follow the guidelines provided.\n",
    "\n",
    "## Tools\n",
    "1. Loop: **for/while**\n",
    "2. Functions: **input(), print()...**\n",
    "3. Conditional statements: **if, elif, else**\n",
    "4. Definition of functions. Modular programming\n",
    "5. Import modules\n",
    "\n",
    "**To solve this challenge, the use of functions is recommended.**\n",
    "\n",
    "#### 1. Import the choice function of the random module."
   ]
  },
  {
   "cell_type": "code",
   "execution_count": 1,
   "metadata": {},
   "outputs": [],
   "source": [
    "from random import choice"
   ]
  },
  {
   "cell_type": "markdown",
   "metadata": {},
   "source": [
    "#### 2. Create a list that includes the 3 possible gesture options of the game: 'rock', 'paper' or 'scissors'. Store the list in a variable called `gestures`."
   ]
  },
  {
   "cell_type": "code",
   "execution_count": 2,
   "metadata": {},
   "outputs": [],
   "source": [
    "gestures = [\"rock\", \n",
    "            \"paper\", \n",
    "            \"scissors\"]"
   ]
  },
  {
   "cell_type": "markdown",
   "metadata": {},
   "source": [
    "#### 3. Create a variable called `n_rounds` to store the maximum number of rounds to play in a game. \n",
    "Remember that the number of rounds must be odd: 1, 3, 5, ..."
   ]
  },
  {
   "cell_type": "code",
   "execution_count": 3,
   "metadata": {},
   "outputs": [
    {
     "name": "stdout",
     "output_type": "stream",
     "text": [
      "To play, please enter an odd number: 3\n",
      "Let's play 3 round(s).\n"
     ]
    }
   ],
   "source": [
    "n_rounds = input(\"To play, please enter an odd number: \")\n",
    "\n",
    "try:\n",
    "    n_rounds = int(n_rounds)\n",
    "    if n_rounds % 2 == 0:\n",
    "        print(\"1, 3, 5.. are an odd number. Also, let be less than 10. Enter the correct number please: \")\n",
    "        n_rounds = 0\n",
    "    elif n_rounds > 10:\n",
    "        print(\"Too much games. Less than 10 is enough.\")\n",
    "        n_rounds = 0\n",
    "    else:\n",
    "        print(\"Let's play\", int(n_rounds), \"round(s).\")\n",
    "except ValueError:\n",
    "    print(\"To play \", n_rounds, \" round(s).\")\n",
    "    n_rounds = 0"
   ]
  },
  {
   "cell_type": "markdown",
   "metadata": {},
   "source": [
    "#### 4. Create a variable called `rounds_to_win` to store the number of rounds that a player must win to win the game.\n",
    "**Hint**: the value stored in `rounds_to_win` depends on the value of `n_rounds`. "
   ]
  },
  {
   "cell_type": "code",
   "execution_count": 4,
   "metadata": {},
   "outputs": [],
   "source": [
    "import math\n",
    "rounds_to_win = math.ceil(n_rounds/2)"
   ]
  },
  {
   "cell_type": "markdown",
   "metadata": {},
   "source": [
    "#### 5. Create two variables to store the number of rounds that the computer and the player have won. Call these variables `cpu_score` and `player_score`."
   ]
  },
  {
   "cell_type": "code",
   "execution_count": 5,
   "metadata": {},
   "outputs": [],
   "source": [
    "cpu_score = 0\n",
    "player_score = 0"
   ]
  },
  {
   "cell_type": "markdown",
   "metadata": {},
   "source": [
    "#### 6. Define a function that randomly returns one of the 3 gesture options.\n",
    "You will use this function to simulate the gesture choice of the computer. "
   ]
  },
  {
   "cell_type": "code",
   "execution_count": 6,
   "metadata": {},
   "outputs": [],
   "source": [
    "def ai(x):\n",
    "    return choice(x);"
   ]
  },
  {
   "cell_type": "markdown",
   "metadata": {},
   "source": [
    "#### 7. Define a function that asks the player which is the gesture he or she wants to show: 'rock', 'paper' or 'scissors'.\n",
    "The player should only be allowed to choose one of the 3 gesture options. If the player's choice is not rock, paper or scissors, keep asking until it is."
   ]
  },
  {
   "cell_type": "code",
   "execution_count": 7,
   "metadata": {},
   "outputs": [],
   "source": [
    "def ia(y):\n",
    "    player = 0\n",
    "    while player == 0:\n",
    "        player =input(\"\\nPlease choose either \" + str(y) + \":\\n\")\n",
    "        if player in y:\n",
    "            return player\n",
    "        else:\n",
    "            print(\"\\nPlease follow the rules.\\n\")\n",
    "            player = 0"
   ]
  },
  {
   "cell_type": "markdown",
   "metadata": {},
   "source": [
    "#### 8. Define a function that checks who won a round. \n",
    "The function should return 0 if there is a tie, 1 if the computer wins and 2 if the player wins."
   ]
  },
  {
   "cell_type": "code",
   "execution_count": 8,
   "metadata": {},
   "outputs": [],
   "source": [
    "john = {\"rock\":[\"paper\"], \n",
    "        \"paper\":[\"scissors\"], \n",
    "        \"scissors\":[\"rock\"]}\n",
    "\n",
    "def winner(z):\n",
    "    outcome = 2\n",
    "    if player == cool:\n",
    "        outcome = 0\n",
    "    elif player in z[cool]:\n",
    "        outcome = 1\n",
    "    return outcome"
   ]
  },
  {
   "cell_type": "markdown",
   "metadata": {},
   "source": [
    "#### 9. Define a function that prints the choice of the computer, the choice of the player and a message that announces who won the current round. \n",
    "You should also use this function to update the variables that count the number of rounds that the computer and the player have won. The score of the winner increases by one point. If there is a tie, the score does not increase."
   ]
  },
  {
   "cell_type": "code",
   "execution_count": 9,
   "metadata": {},
   "outputs": [],
   "source": [
    "def rounds(p):\n",
    "    result = {0: \"\\nTie!\", 1:\"\\nYou win.\", 2:\"\\nI win.\"}\n",
    "    print(\"\\nYou human, choose: \" + player)\n",
    "    print(\"Me robot, choose: \" + cool)\n",
    "    print(result[p])"
   ]
  },
  {
   "cell_type": "markdown",
   "metadata": {},
   "source": [
    "#### 10. Now it's time to code the execution of the game using the functions and variables you defined above. \n",
    "\n",
    "First, create a loop structure that repeats while no player reaches the minimum score necessary to win and the number of rounds is less than the maximum number of rounds to play in a game.  \n",
    "\n",
    "Inside the loop, use the functions and variables above to create the execution of a round: ask for the player's choice, generate the random choice of the computer, show the round results, update the scores, etc. "
   ]
  },
  {
   "cell_type": "code",
   "execution_count": 10,
   "metadata": {},
   "outputs": [
    {
     "name": "stdout",
     "output_type": "stream",
     "text": [
      "\n",
      "Please choose either ['rock', 'paper', 'scissors']:\n",
      "rock\n",
      "\n",
      "You human, choose: rock\n",
      "Me robot, choose: paper\n",
      "\n",
      "I win.\n",
      "\n",
      "Please choose either ['rock', 'paper', 'scissors']:\n",
      "rock\n",
      "\n",
      "You human, choose: rock\n",
      "Me robot, choose: paper\n",
      "\n",
      "I win.\n"
     ]
    }
   ],
   "source": [
    "finished_rounds = 0\n",
    "\n",
    "while finished_rounds < n_rounds and cpu_score < rounds_to_win and player_score < rounds_to_win:\n",
    "    player = ia(gestures)\n",
    "    cool = ai(gestures)\n",
    "    outcome = winner(john)\n",
    "    rounds(outcome)\n",
    "    finished_rounds += 1\n",
    "    \n",
    "    if outcome == 1:\n",
    "        player_score += 1\n",
    "    elif outcome == 2:\n",
    "        cpu_score += 1"
   ]
  },
  {
   "cell_type": "raw",
   "metadata": {},
   "source": [
    "#### 11. Print the winner of the game based on who won more rounds.\n",
    "Remember that the game might be tied. "
   ]
  },
  {
   "cell_type": "code",
   "execution_count": 12,
   "metadata": {},
   "outputs": [
    {
     "name": "stdout",
     "output_type": "stream",
     "text": [
      "\n",
      "Robot is the winner\n"
     ]
    }
   ],
   "source": [
    "if player_score >= cpu_score:\n",
    "    print(\"\\nHuman is the winner\")\n",
    "elif cpu_score >= player_score:\n",
    "    print(\"\\nRobot is the winner\")\n",
    "else:\n",
    "    print(\"\\nIt is a draw.\")"
   ]
  },
  {
   "cell_type": "markdown",
   "metadata": {},
   "source": [
    "# Bonus: Rock, Paper, Scissors, Lizard & Spock\n",
    "![](images/rpsls.jpg)\n",
    "\n",
    "In this challenge, you need to improve the previous game by adding two new options. To know more about the rules of the improved version of rock, paper, scissors, check this [link](http://www.samkass.com/theories/RPSSL.html). \n",
    "\n",
    "In addition, you will also need to improve how the game interacts with the player: the number of rounds to play, which must be an odd number, will be requested to the user until a valid number is entered. Define a new function to make that request.\n",
    "\n",
    "**Hint**: Try to reuse the code that you already coded in the previous challenge. If your code is efficient, this bonus will only consist of simple modifications to the original game."
   ]
  },
  {
   "cell_type": "code",
   "execution_count": 15,
   "metadata": {
    "scrolled": true
   },
   "outputs": [
    {
     "name": "stdout",
     "output_type": "stream",
     "text": [
      "\n",
      "Please choose either ['rock', 'paper', 'scissors', 'lizard', 'spock']:\n",
      "rock\n",
      "\n",
      "You human, choose: rock\n",
      "Me robot, choose: scissors\n",
      "\n",
      "You win.\n",
      "\n",
      "Please choose either ['rock', 'paper', 'scissors', 'lizard', 'spock']:\n",
      "rock\n",
      "\n",
      "You human, choose: rock\n",
      "Me robot, choose: spock\n",
      "\n",
      "I win.\n",
      "\n",
      "Please choose either ['rock', 'paper', 'scissors', 'lizard', 'spock']:\n",
      "paper\n",
      "\n",
      "You human, choose: paper\n",
      "Me robot, choose: rock\n",
      "\n",
      "You win.\n",
      "\n",
      "Human is the winner.\n"
     ]
    }
   ],
   "source": [
    "new_gestures = [\"rock\",\n",
    "                \"paper\",\n",
    "                \"scissors\",\n",
    "                \"lizard\",\n",
    "                \"spock\"]\n",
    "\n",
    "connor = {\"rock\":[\"paper\",\"spock\"], \n",
    "          \"paper\":[\"scissors\",\"lizard\"], \n",
    "          \"scissors\":[\"spock\",\"rock\"], \n",
    "          \"lizard\":[\"rock\",\"scissors\"],\n",
    "          \"spock\":[\"paper\",\"lizard\"]}\n",
    "\n",
    "cpu_score = 0\n",
    "player_score = 0\n",
    "finished_rounds = 0\n",
    "\n",
    "while finished_rounds < n_rounds and cpu_score < rounds_to_win and player_score < rounds_to_win:\n",
    "    player = ia(new_gestures)\n",
    "    cool = ai(new_gestures)\n",
    "    outcome = winner(connor)\n",
    "    rounds(outcome)\n",
    "    finished_rounds += 1\n",
    "    \n",
    "    if outcome == 1:\n",
    "        player_score += 1\n",
    "    elif outcome == 2:\n",
    "        cpu_score += 1\n",
    "        \n",
    "if player_score >= cpu_score:\n",
    "    print(\"\\nHuman is the winner.\")\n",
    "elif cpu_score >= player_score:\n",
    "    print(\"\\nRobot is the winner.\")\n",
    "else:\n",
    "    print(\"\\nIt is a draw.\")"
   ]
  },
  {
   "cell_type": "code",
   "execution_count": null,
   "metadata": {},
   "outputs": [],
   "source": []
  }
 ],
 "metadata": {
  "kernelspec": {
   "display_name": "Python 3",
   "language": "python",
   "name": "python3"
  },
  "language_info": {
   "codemirror_mode": {
    "name": "ipython",
    "version": 3
   },
   "file_extension": ".py",
   "mimetype": "text/x-python",
   "name": "python",
   "nbconvert_exporter": "python",
   "pygments_lexer": "ipython3",
   "version": "3.9.2"
  }
 },
 "nbformat": 4,
 "nbformat_minor": 2
}
